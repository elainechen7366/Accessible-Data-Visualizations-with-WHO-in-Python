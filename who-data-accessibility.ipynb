{
 "cells": [
  {
   "cell_type": "markdown",
   "id": "90ed901b",
   "metadata": {},
   "source": [
    "# Accessible Data Visualizations with WHO"
   ]
  },
  {
   "cell_type": "markdown",
   "id": "a0c2d89d",
   "metadata": {},
   "source": [
    "## Import the Library"
   ]
  },
  {
   "cell_type": "code",
   "execution_count": 98,
   "id": "b57c078e",
   "metadata": {},
   "outputs": [],
   "source": [
    "import pandas as pd\n",
    "import seaborn as sns\n",
    "import numpy as np"
   ]
  },
  {
   "cell_type": "markdown",
   "id": "aaeab02a",
   "metadata": {},
   "source": [
    "## Load the Dataset"
   ]
  },
  {
   "cell_type": "code",
   "execution_count": 55,
   "id": "900e5edb",
   "metadata": {},
   "outputs": [],
   "source": [
    "df_age = pd.read_excel('WHO/Data/DisabilityPrevalence.xlsx', sheet_name = 'age')\n",
    "df_income = pd.read_excel('WHO/Data/DisabilityPrevalence.xlsx', sheet_name = 'income')\n",
    "df_regions = pd.read_excel('WHO/Data/DisabilityPrevalence.xlsx', sheet_name = 'regions')\n",
    "ref_cause = pd.read_excel('WHO/Data/DisabilityPrevalence.xlsx', sheet_name = 'ref_cause')"
   ]
  },
  {
   "cell_type": "code",
   "execution_count": 16,
   "id": "13d9d5f5",
   "metadata": {},
   "outputs": [
    {
     "data": {
      "text/html": [
       "<div>\n",
       "<style scoped>\n",
       "    .dataframe tbody tr th:only-of-type {\n",
       "        vertical-align: middle;\n",
       "    }\n",
       "\n",
       "    .dataframe tbody tr th {\n",
       "        vertical-align: top;\n",
       "    }\n",
       "\n",
       "    .dataframe thead th {\n",
       "        text-align: right;\n",
       "    }\n",
       "</style>\n",
       "<table border=\"1\" class=\"dataframe\">\n",
       "  <thead>\n",
       "    <tr style=\"text-align: right;\">\n",
       "      <th></th>\n",
       "      <th>location_id</th>\n",
       "      <th>age_group_id</th>\n",
       "      <th>age_group</th>\n",
       "      <th>sex_id</th>\n",
       "      <th>year_id</th>\n",
       "      <th>severity</th>\n",
       "      <th>metric_id</th>\n",
       "      <th>level</th>\n",
       "      <th>cause_name</th>\n",
       "      <th>prev</th>\n",
       "      <th>lower</th>\n",
       "      <th>upper</th>\n",
       "    </tr>\n",
       "  </thead>\n",
       "  <tbody>\n",
       "    <tr>\n",
       "      <th>0</th>\n",
       "      <td>1</td>\n",
       "      <td>NaN</td>\n",
       "      <td>60 plus</td>\n",
       "      <td>1</td>\n",
       "      <td>2021</td>\n",
       "      <td>moderate and severe</td>\n",
       "      <td>3</td>\n",
       "      <td>3</td>\n",
       "      <td>Maternal obstructed labor and uterine rupture</td>\n",
       "      <td>0.0</td>\n",
       "      <td>0.0</td>\n",
       "      <td>0.0</td>\n",
       "    </tr>\n",
       "    <tr>\n",
       "      <th>1</th>\n",
       "      <td>1</td>\n",
       "      <td>NaN</td>\n",
       "      <td>60 plus</td>\n",
       "      <td>1</td>\n",
       "      <td>2021</td>\n",
       "      <td>moderate and severe</td>\n",
       "      <td>3</td>\n",
       "      <td>3</td>\n",
       "      <td>Chlamydial infection</td>\n",
       "      <td>0.0</td>\n",
       "      <td>0.0</td>\n",
       "      <td>0.0</td>\n",
       "    </tr>\n",
       "    <tr>\n",
       "      <th>2</th>\n",
       "      <td>1</td>\n",
       "      <td>NaN</td>\n",
       "      <td>60 plus</td>\n",
       "      <td>1</td>\n",
       "      <td>2021</td>\n",
       "      <td>moderate and severe</td>\n",
       "      <td>3</td>\n",
       "      <td>3</td>\n",
       "      <td>Gonococcal infection</td>\n",
       "      <td>0.0</td>\n",
       "      <td>0.0</td>\n",
       "      <td>0.0</td>\n",
       "    </tr>\n",
       "    <tr>\n",
       "      <th>3</th>\n",
       "      <td>1</td>\n",
       "      <td>NaN</td>\n",
       "      <td>60 plus</td>\n",
       "      <td>1</td>\n",
       "      <td>2021</td>\n",
       "      <td>moderate and severe</td>\n",
       "      <td>3</td>\n",
       "      <td>3</td>\n",
       "      <td>Other sexually transmitted infections</td>\n",
       "      <td>0.0</td>\n",
       "      <td>0.0</td>\n",
       "      <td>0.0</td>\n",
       "    </tr>\n",
       "    <tr>\n",
       "      <th>4</th>\n",
       "      <td>1</td>\n",
       "      <td>NaN</td>\n",
       "      <td>60 plus</td>\n",
       "      <td>1</td>\n",
       "      <td>2021</td>\n",
       "      <td>moderate and severe</td>\n",
       "      <td>3</td>\n",
       "      <td>3</td>\n",
       "      <td>Cervical cancer</td>\n",
       "      <td>0.0</td>\n",
       "      <td>0.0</td>\n",
       "      <td>0.0</td>\n",
       "    </tr>\n",
       "  </tbody>\n",
       "</table>\n",
       "</div>"
      ],
      "text/plain": [
       "   location_id  age_group_id age_group  sex_id  year_id             severity   \n",
       "0            1           NaN   60 plus       1     2021  moderate and severe  \\\n",
       "1            1           NaN   60 plus       1     2021  moderate and severe   \n",
       "2            1           NaN   60 plus       1     2021  moderate and severe   \n",
       "3            1           NaN   60 plus       1     2021  moderate and severe   \n",
       "4            1           NaN   60 plus       1     2021  moderate and severe   \n",
       "\n",
       "   metric_id  level                                     cause_name  prev   \n",
       "0          3      3  Maternal obstructed labor and uterine rupture   0.0  \\\n",
       "1          3      3                           Chlamydial infection   0.0   \n",
       "2          3      3                           Gonococcal infection   0.0   \n",
       "3          3      3          Other sexually transmitted infections   0.0   \n",
       "4          3      3                                Cervical cancer   0.0   \n",
       "\n",
       "   lower  upper  \n",
       "0    0.0    0.0  \n",
       "1    0.0    0.0  \n",
       "2    0.0    0.0  \n",
       "3    0.0    0.0  \n",
       "4    0.0    0.0  "
      ]
     },
     "execution_count": 16,
     "metadata": {},
     "output_type": "execute_result"
    }
   ],
   "source": [
    "df_age.head()"
   ]
  },
  {
   "cell_type": "code",
   "execution_count": 17,
   "id": "98fa9500",
   "metadata": {},
   "outputs": [
    {
     "data": {
      "text/html": [
       "<div>\n",
       "<style scoped>\n",
       "    .dataframe tbody tr th:only-of-type {\n",
       "        vertical-align: middle;\n",
       "    }\n",
       "\n",
       "    .dataframe tbody tr th {\n",
       "        vertical-align: top;\n",
       "    }\n",
       "\n",
       "    .dataframe thead th {\n",
       "        text-align: right;\n",
       "    }\n",
       "</style>\n",
       "<table border=\"1\" class=\"dataframe\">\n",
       "  <thead>\n",
       "    <tr style=\"text-align: right;\">\n",
       "      <th></th>\n",
       "      <th>IncomeGroupCountry</th>\n",
       "      <th>age_group_id</th>\n",
       "      <th>sex_id</th>\n",
       "      <th>year_id</th>\n",
       "      <th>cause_name</th>\n",
       "      <th>level</th>\n",
       "      <th>severity</th>\n",
       "      <th>metric_id</th>\n",
       "      <th>mean</th>\n",
       "      <th>lower</th>\n",
       "      <th>upper</th>\n",
       "    </tr>\n",
       "  </thead>\n",
       "  <tbody>\n",
       "    <tr>\n",
       "      <th>0</th>\n",
       "      <td>High</td>\n",
       "      <td>22</td>\n",
       "      <td>3</td>\n",
       "      <td>2021</td>\n",
       "      <td>Upper respiratory infections</td>\n",
       "      <td>3</td>\n",
       "      <td>moderate and severe</td>\n",
       "      <td>3</td>\n",
       "      <td>1.270772e-05</td>\n",
       "      <td>9.758367e-06</td>\n",
       "      <td>1.610199e-05</td>\n",
       "    </tr>\n",
       "    <tr>\n",
       "      <th>1</th>\n",
       "      <td>High</td>\n",
       "      <td>22</td>\n",
       "      <td>3</td>\n",
       "      <td>2021</td>\n",
       "      <td>Chagas disease</td>\n",
       "      <td>3</td>\n",
       "      <td>moderate and severe</td>\n",
       "      <td>3</td>\n",
       "      <td>9.158350e-06</td>\n",
       "      <td>7.136468e-06</td>\n",
       "      <td>1.128575e-05</td>\n",
       "    </tr>\n",
       "    <tr>\n",
       "      <th>2</th>\n",
       "      <td>High</td>\n",
       "      <td>22</td>\n",
       "      <td>3</td>\n",
       "      <td>2021</td>\n",
       "      <td>Schistosomiasis</td>\n",
       "      <td>3</td>\n",
       "      <td>moderate and severe</td>\n",
       "      <td>3</td>\n",
       "      <td>1.607063e-08</td>\n",
       "      <td>8.385919e-09</td>\n",
       "      <td>2.526537e-08</td>\n",
       "    </tr>\n",
       "    <tr>\n",
       "      <th>3</th>\n",
       "      <td>High</td>\n",
       "      <td>22</td>\n",
       "      <td>3</td>\n",
       "      <td>2021</td>\n",
       "      <td>Onchocerciasis</td>\n",
       "      <td>3</td>\n",
       "      <td>moderate and severe</td>\n",
       "      <td>3</td>\n",
       "      <td>0.000000e+00</td>\n",
       "      <td>0.000000e+00</td>\n",
       "      <td>0.000000e+00</td>\n",
       "    </tr>\n",
       "    <tr>\n",
       "      <th>4</th>\n",
       "      <td>High</td>\n",
       "      <td>22</td>\n",
       "      <td>3</td>\n",
       "      <td>2021</td>\n",
       "      <td>Trachoma</td>\n",
       "      <td>3</td>\n",
       "      <td>moderate and severe</td>\n",
       "      <td>3</td>\n",
       "      <td>1.235740e-06</td>\n",
       "      <td>8.791901e-07</td>\n",
       "      <td>1.679398e-06</td>\n",
       "    </tr>\n",
       "  </tbody>\n",
       "</table>\n",
       "</div>"
      ],
      "text/plain": [
       "  IncomeGroupCountry  age_group_id  sex_id  year_id   \n",
       "0               High            22       3     2021  \\\n",
       "1               High            22       3     2021   \n",
       "2               High            22       3     2021   \n",
       "3               High            22       3     2021   \n",
       "4               High            22       3     2021   \n",
       "\n",
       "                     cause_name  level             severity  metric_id   \n",
       "0  Upper respiratory infections      3  moderate and severe          3  \\\n",
       "1                Chagas disease      3  moderate and severe          3   \n",
       "2               Schistosomiasis      3  moderate and severe          3   \n",
       "3                Onchocerciasis      3  moderate and severe          3   \n",
       "4                      Trachoma      3  moderate and severe          3   \n",
       "\n",
       "           mean         lower         upper  \n",
       "0  1.270772e-05  9.758367e-06  1.610199e-05  \n",
       "1  9.158350e-06  7.136468e-06  1.128575e-05  \n",
       "2  1.607063e-08  8.385919e-09  2.526537e-08  \n",
       "3  0.000000e+00  0.000000e+00  0.000000e+00  \n",
       "4  1.235740e-06  8.791901e-07  1.679398e-06  "
      ]
     },
     "execution_count": 17,
     "metadata": {},
     "output_type": "execute_result"
    }
   ],
   "source": [
    "df_income.head()"
   ]
  },
  {
   "cell_type": "code",
   "execution_count": 18,
   "id": "f0ec3492",
   "metadata": {},
   "outputs": [
    {
     "data": {
      "text/html": [
       "<div>\n",
       "<style scoped>\n",
       "    .dataframe tbody tr th:only-of-type {\n",
       "        vertical-align: middle;\n",
       "    }\n",
       "\n",
       "    .dataframe tbody tr th {\n",
       "        vertical-align: top;\n",
       "    }\n",
       "\n",
       "    .dataframe thead th {\n",
       "        text-align: right;\n",
       "    }\n",
       "</style>\n",
       "<table border=\"1\" class=\"dataframe\">\n",
       "  <thead>\n",
       "    <tr style=\"text-align: right;\">\n",
       "      <th></th>\n",
       "      <th>Region</th>\n",
       "      <th>location_id</th>\n",
       "      <th>age_group_id</th>\n",
       "      <th>sex_id</th>\n",
       "      <th>year_id</th>\n",
       "      <th>cause_name</th>\n",
       "      <th>level</th>\n",
       "      <th>severity</th>\n",
       "      <th>metric_id</th>\n",
       "      <th>mean</th>\n",
       "      <th>lower</th>\n",
       "      <th>upper</th>\n",
       "    </tr>\n",
       "  </thead>\n",
       "  <tbody>\n",
       "    <tr>\n",
       "      <th>0</th>\n",
       "      <td>AFR</td>\n",
       "      <td>44563</td>\n",
       "      <td>22</td>\n",
       "      <td>2</td>\n",
       "      <td>2021</td>\n",
       "      <td>Chagas disease</td>\n",
       "      <td>3</td>\n",
       "      <td>moderate and severe</td>\n",
       "      <td>3</td>\n",
       "      <td>0.0</td>\n",
       "      <td>0.0</td>\n",
       "      <td>0.0</td>\n",
       "    </tr>\n",
       "    <tr>\n",
       "      <th>1</th>\n",
       "      <td>AFR</td>\n",
       "      <td>44563</td>\n",
       "      <td>22</td>\n",
       "      <td>2</td>\n",
       "      <td>2021</td>\n",
       "      <td>Food-borne trematodiases</td>\n",
       "      <td>3</td>\n",
       "      <td>moderate and severe</td>\n",
       "      <td>3</td>\n",
       "      <td>0.0</td>\n",
       "      <td>0.0</td>\n",
       "      <td>0.0</td>\n",
       "    </tr>\n",
       "    <tr>\n",
       "      <th>2</th>\n",
       "      <td>AFR</td>\n",
       "      <td>44563</td>\n",
       "      <td>22</td>\n",
       "      <td>2</td>\n",
       "      <td>2021</td>\n",
       "      <td>Zika virus</td>\n",
       "      <td>3</td>\n",
       "      <td>moderate and severe</td>\n",
       "      <td>3</td>\n",
       "      <td>0.0</td>\n",
       "      <td>0.0</td>\n",
       "      <td>0.0</td>\n",
       "    </tr>\n",
       "    <tr>\n",
       "      <th>3</th>\n",
       "      <td>AFR</td>\n",
       "      <td>44563</td>\n",
       "      <td>22</td>\n",
       "      <td>2</td>\n",
       "      <td>2021</td>\n",
       "      <td>Prostate cancer</td>\n",
       "      <td>3</td>\n",
       "      <td>moderate and severe</td>\n",
       "      <td>3</td>\n",
       "      <td>0.0</td>\n",
       "      <td>0.0</td>\n",
       "      <td>0.0</td>\n",
       "    </tr>\n",
       "    <tr>\n",
       "      <th>4</th>\n",
       "      <td>AFR</td>\n",
       "      <td>44563</td>\n",
       "      <td>22</td>\n",
       "      <td>2</td>\n",
       "      <td>2021</td>\n",
       "      <td>Testicular cancer</td>\n",
       "      <td>3</td>\n",
       "      <td>moderate and severe</td>\n",
       "      <td>3</td>\n",
       "      <td>0.0</td>\n",
       "      <td>0.0</td>\n",
       "      <td>0.0</td>\n",
       "    </tr>\n",
       "  </tbody>\n",
       "</table>\n",
       "</div>"
      ],
      "text/plain": [
       "  Region  location_id  age_group_id  sex_id  year_id   \n",
       "0    AFR        44563            22       2     2021  \\\n",
       "1    AFR        44563            22       2     2021   \n",
       "2    AFR        44563            22       2     2021   \n",
       "3    AFR        44563            22       2     2021   \n",
       "4    AFR        44563            22       2     2021   \n",
       "\n",
       "                 cause_name  level             severity  metric_id  mean   \n",
       "0            Chagas disease      3  moderate and severe          3   0.0  \\\n",
       "1  Food-borne trematodiases      3  moderate and severe          3   0.0   \n",
       "2                Zika virus      3  moderate and severe          3   0.0   \n",
       "3           Prostate cancer      3  moderate and severe          3   0.0   \n",
       "4         Testicular cancer      3  moderate and severe          3   0.0   \n",
       "\n",
       "   lower  upper  \n",
       "0    0.0    0.0  \n",
       "1    0.0    0.0  \n",
       "2    0.0    0.0  \n",
       "3    0.0    0.0  \n",
       "4    0.0    0.0  "
      ]
     },
     "execution_count": 18,
     "metadata": {},
     "output_type": "execute_result"
    }
   ],
   "source": [
    "df_regions.head()"
   ]
  },
  {
   "cell_type": "code",
   "execution_count": 21,
   "id": "17821e22",
   "metadata": {},
   "outputs": [
    {
     "name": "stdout",
     "output_type": "stream",
     "text": [
      "<class 'pandas.core.frame.DataFrame'>\n",
      "RangeIndex: 9999 entries, 0 to 9998\n",
      "Data columns (total 12 columns):\n",
      " #   Column        Non-Null Count  Dtype  \n",
      "---  ------        --------------  -----  \n",
      " 0   location_id   9999 non-null   int64  \n",
      " 1   age_group_id  2727 non-null   float64\n",
      " 2   age_group     9999 non-null   object \n",
      " 3   sex_id        9999 non-null   int64  \n",
      " 4   year_id       9999 non-null   int64  \n",
      " 5   severity      9999 non-null   object \n",
      " 6   metric_id     9999 non-null   int64  \n",
      " 7   level         9999 non-null   int64  \n",
      " 8   cause_name    9999 non-null   object \n",
      " 9   prev          9999 non-null   float64\n",
      " 10  lower         9999 non-null   float64\n",
      " 11  upper         9999 non-null   float64\n",
      "dtypes: float64(4), int64(5), object(3)\n",
      "memory usage: 937.5+ KB\n"
     ]
    }
   ],
   "source": [
    "df_age.info()"
   ]
  },
  {
   "cell_type": "code",
   "execution_count": 22,
   "id": "76d827a7",
   "metadata": {},
   "outputs": [
    {
     "name": "stdout",
     "output_type": "stream",
     "text": [
      "<class 'pandas.core.frame.DataFrame'>\n",
      "RangeIndex: 7272 entries, 0 to 7271\n",
      "Data columns (total 11 columns):\n",
      " #   Column              Non-Null Count  Dtype  \n",
      "---  ------              --------------  -----  \n",
      " 0   IncomeGroupCountry  7272 non-null   object \n",
      " 1   age_group_id        7272 non-null   int64  \n",
      " 2   sex_id              7272 non-null   int64  \n",
      " 3   year_id             7272 non-null   int64  \n",
      " 4   cause_name          7272 non-null   object \n",
      " 5   level               7272 non-null   int64  \n",
      " 6   severity            7272 non-null   object \n",
      " 7   metric_id           7272 non-null   int64  \n",
      " 8   mean                7272 non-null   float64\n",
      " 9   lower               7272 non-null   float64\n",
      " 10  upper               7272 non-null   float64\n",
      "dtypes: float64(3), int64(5), object(3)\n",
      "memory usage: 625.1+ KB\n"
     ]
    }
   ],
   "source": [
    "df_income.info()"
   ]
  },
  {
   "cell_type": "code",
   "execution_count": 23,
   "id": "b4336220",
   "metadata": {},
   "outputs": [
    {
     "name": "stdout",
     "output_type": "stream",
     "text": [
      "<class 'pandas.core.frame.DataFrame'>\n",
      "RangeIndex: 10908 entries, 0 to 10907\n",
      "Data columns (total 12 columns):\n",
      " #   Column        Non-Null Count  Dtype  \n",
      "---  ------        --------------  -----  \n",
      " 0   Region        10908 non-null  object \n",
      " 1   location_id   10908 non-null  int64  \n",
      " 2   age_group_id  10908 non-null  int64  \n",
      " 3   sex_id        10908 non-null  int64  \n",
      " 4   year_id       10908 non-null  int64  \n",
      " 5   cause_name    10908 non-null  object \n",
      " 6   level         10908 non-null  int64  \n",
      " 7   severity      10908 non-null  object \n",
      " 8   metric_id     10908 non-null  int64  \n",
      " 9   mean          10908 non-null  float64\n",
      " 10  lower         10908 non-null  float64\n",
      " 11  upper         10908 non-null  float64\n",
      "dtypes: float64(3), int64(6), object(3)\n",
      "memory usage: 1022.8+ KB\n"
     ]
    }
   ],
   "source": [
    "df_regions.info()"
   ]
  },
  {
   "cell_type": "code",
   "execution_count": 20,
   "id": "7de7ad3d",
   "metadata": {},
   "outputs": [
    {
     "name": "stdout",
     "output_type": "stream",
     "text": [
      "shape of df_age:  (9999, 12)\n",
      "shape of df_income:  (7272, 11)\n",
      "shape of df_regions:  (10908, 12)\n"
     ]
    }
   ],
   "source": [
    "print(\"shape of df_age: \", df_age.shape)\n",
    "print(\"shape of df_income: \", df_income.shape)\n",
    "print(\"shape of df_regions: \", df_regions.shape)"
   ]
  },
  {
   "cell_type": "code",
   "execution_count": 24,
   "id": "4aa1d878",
   "metadata": {},
   "outputs": [
    {
     "data": {
      "text/html": [
       "<div>\n",
       "<style scoped>\n",
       "    .dataframe tbody tr th:only-of-type {\n",
       "        vertical-align: middle;\n",
       "    }\n",
       "\n",
       "    .dataframe tbody tr th {\n",
       "        vertical-align: top;\n",
       "    }\n",
       "\n",
       "    .dataframe thead th {\n",
       "        text-align: right;\n",
       "    }\n",
       "</style>\n",
       "<table border=\"1\" class=\"dataframe\">\n",
       "  <thead>\n",
       "    <tr style=\"text-align: right;\">\n",
       "      <th></th>\n",
       "      <th>location_id</th>\n",
       "      <th>age_group_id</th>\n",
       "      <th>sex_id</th>\n",
       "      <th>year_id</th>\n",
       "      <th>metric_id</th>\n",
       "      <th>level</th>\n",
       "      <th>prev</th>\n",
       "      <th>lower</th>\n",
       "      <th>upper</th>\n",
       "    </tr>\n",
       "  </thead>\n",
       "  <tbody>\n",
       "    <tr>\n",
       "      <th>count</th>\n",
       "      <td>9999.0</td>\n",
       "      <td>2727.000000</td>\n",
       "      <td>9999.000000</td>\n",
       "      <td>9999.0</td>\n",
       "      <td>9999.000000</td>\n",
       "      <td>9999.000000</td>\n",
       "      <td>9.999000e+03</td>\n",
       "      <td>9.999000e+03</td>\n",
       "      <td>9.999000e+03</td>\n",
       "    </tr>\n",
       "    <tr>\n",
       "      <th>mean</th>\n",
       "      <td>1.0</td>\n",
       "      <td>23.666667</td>\n",
       "      <td>2.000000</td>\n",
       "      <td>2021.0</td>\n",
       "      <td>2.090909</td>\n",
       "      <td>2.874587</td>\n",
       "      <td>2.654777e+06</td>\n",
       "      <td>2.079594e+06</td>\n",
       "      <td>3.477778e+06</td>\n",
       "    </tr>\n",
       "    <tr>\n",
       "      <th>std</th>\n",
       "      <td>0.0</td>\n",
       "      <td>2.357455</td>\n",
       "      <td>0.816537</td>\n",
       "      <td>0.0</td>\n",
       "      <td>0.995909</td>\n",
       "      <td>0.350568</td>\n",
       "      <td>2.684730e+07</td>\n",
       "      <td>2.365366e+07</td>\n",
       "      <td>3.155443e+07</td>\n",
       "    </tr>\n",
       "    <tr>\n",
       "      <th>min</th>\n",
       "      <td>1.0</td>\n",
       "      <td>22.000000</td>\n",
       "      <td>1.000000</td>\n",
       "      <td>2021.0</td>\n",
       "      <td>1.000000</td>\n",
       "      <td>1.000000</td>\n",
       "      <td>0.000000e+00</td>\n",
       "      <td>0.000000e+00</td>\n",
       "      <td>0.000000e+00</td>\n",
       "    </tr>\n",
       "    <tr>\n",
       "      <th>25%</th>\n",
       "      <td>1.0</td>\n",
       "      <td>22.000000</td>\n",
       "      <td>1.000000</td>\n",
       "      <td>2021.0</td>\n",
       "      <td>1.000000</td>\n",
       "      <td>3.000000</td>\n",
       "      <td>1.005000e-05</td>\n",
       "      <td>6.365000e-06</td>\n",
       "      <td>1.330000e-05</td>\n",
       "    </tr>\n",
       "    <tr>\n",
       "      <th>50%</th>\n",
       "      <td>1.0</td>\n",
       "      <td>22.000000</td>\n",
       "      <td>2.000000</td>\n",
       "      <td>2021.0</td>\n",
       "      <td>3.000000</td>\n",
       "      <td>3.000000</td>\n",
       "      <td>1.601034e-03</td>\n",
       "      <td>1.098561e-03</td>\n",
       "      <td>2.104562e-03</td>\n",
       "    </tr>\n",
       "    <tr>\n",
       "      <th>75%</th>\n",
       "      <td>1.0</td>\n",
       "      <td>27.000000</td>\n",
       "      <td>3.000000</td>\n",
       "      <td>2021.0</td>\n",
       "      <td>3.000000</td>\n",
       "      <td>3.000000</td>\n",
       "      <td>4.478742e+04</td>\n",
       "      <td>2.843762e+04</td>\n",
       "      <td>5.644289e+04</td>\n",
       "    </tr>\n",
       "    <tr>\n",
       "      <th>max</th>\n",
       "      <td>1.0</td>\n",
       "      <td>27.000000</td>\n",
       "      <td>3.000000</td>\n",
       "      <td>2021.0</td>\n",
       "      <td>3.000000</td>\n",
       "      <td>3.000000</td>\n",
       "      <td>1.281079e+09</td>\n",
       "      <td>1.161003e+09</td>\n",
       "      <td>1.427759e+09</td>\n",
       "    </tr>\n",
       "  </tbody>\n",
       "</table>\n",
       "</div>"
      ],
      "text/plain": [
       "       location_id  age_group_id       sex_id  year_id    metric_id   \n",
       "count       9999.0   2727.000000  9999.000000   9999.0  9999.000000  \\\n",
       "mean           1.0     23.666667     2.000000   2021.0     2.090909   \n",
       "std            0.0      2.357455     0.816537      0.0     0.995909   \n",
       "min            1.0     22.000000     1.000000   2021.0     1.000000   \n",
       "25%            1.0     22.000000     1.000000   2021.0     1.000000   \n",
       "50%            1.0     22.000000     2.000000   2021.0     3.000000   \n",
       "75%            1.0     27.000000     3.000000   2021.0     3.000000   \n",
       "max            1.0     27.000000     3.000000   2021.0     3.000000   \n",
       "\n",
       "             level          prev         lower         upper  \n",
       "count  9999.000000  9.999000e+03  9.999000e+03  9.999000e+03  \n",
       "mean      2.874587  2.654777e+06  2.079594e+06  3.477778e+06  \n",
       "std       0.350568  2.684730e+07  2.365366e+07  3.155443e+07  \n",
       "min       1.000000  0.000000e+00  0.000000e+00  0.000000e+00  \n",
       "25%       3.000000  1.005000e-05  6.365000e-06  1.330000e-05  \n",
       "50%       3.000000  1.601034e-03  1.098561e-03  2.104562e-03  \n",
       "75%       3.000000  4.478742e+04  2.843762e+04  5.644289e+04  \n",
       "max       3.000000  1.281079e+09  1.161003e+09  1.427759e+09  "
      ]
     },
     "execution_count": 24,
     "metadata": {},
     "output_type": "execute_result"
    }
   ],
   "source": [
    "df_age.describe()"
   ]
  },
  {
   "cell_type": "code",
   "execution_count": 25,
   "id": "1a2f225c",
   "metadata": {},
   "outputs": [
    {
     "data": {
      "text/html": [
       "<div>\n",
       "<style scoped>\n",
       "    .dataframe tbody tr th:only-of-type {\n",
       "        vertical-align: middle;\n",
       "    }\n",
       "\n",
       "    .dataframe tbody tr th {\n",
       "        vertical-align: top;\n",
       "    }\n",
       "\n",
       "    .dataframe thead th {\n",
       "        text-align: right;\n",
       "    }\n",
       "</style>\n",
       "<table border=\"1\" class=\"dataframe\">\n",
       "  <thead>\n",
       "    <tr style=\"text-align: right;\">\n",
       "      <th></th>\n",
       "      <th>age_group_id</th>\n",
       "      <th>sex_id</th>\n",
       "      <th>year_id</th>\n",
       "      <th>level</th>\n",
       "      <th>metric_id</th>\n",
       "      <th>mean</th>\n",
       "      <th>lower</th>\n",
       "      <th>upper</th>\n",
       "    </tr>\n",
       "  </thead>\n",
       "  <tbody>\n",
       "    <tr>\n",
       "      <th>count</th>\n",
       "      <td>7272.0</td>\n",
       "      <td>7272.000000</td>\n",
       "      <td>7272.0</td>\n",
       "      <td>7272.000000</td>\n",
       "      <td>7272.000000</td>\n",
       "      <td>7.272000e+03</td>\n",
       "      <td>7.272000e+03</td>\n",
       "      <td>7.272000e+03</td>\n",
       "    </tr>\n",
       "    <tr>\n",
       "      <th>mean</th>\n",
       "      <td>22.0</td>\n",
       "      <td>2.000000</td>\n",
       "      <td>2021.0</td>\n",
       "      <td>2.874587</td>\n",
       "      <td>2.000000</td>\n",
       "      <td>1.247357e+06</td>\n",
       "      <td>9.785117e+05</td>\n",
       "      <td>1.631326e+06</td>\n",
       "    </tr>\n",
       "    <tr>\n",
       "      <th>std</th>\n",
       "      <td>0.0</td>\n",
       "      <td>0.816553</td>\n",
       "      <td>0.0</td>\n",
       "      <td>0.350574</td>\n",
       "      <td>1.000069</td>\n",
       "      <td>1.144217e+07</td>\n",
       "      <td>1.010048e+07</td>\n",
       "      <td>1.345703e+07</td>\n",
       "    </tr>\n",
       "    <tr>\n",
       "      <th>min</th>\n",
       "      <td>22.0</td>\n",
       "      <td>1.000000</td>\n",
       "      <td>2021.0</td>\n",
       "      <td>1.000000</td>\n",
       "      <td>1.000000</td>\n",
       "      <td>0.000000e+00</td>\n",
       "      <td>0.000000e+00</td>\n",
       "      <td>0.000000e+00</td>\n",
       "    </tr>\n",
       "    <tr>\n",
       "      <th>25%</th>\n",
       "      <td>22.0</td>\n",
       "      <td>1.000000</td>\n",
       "      <td>2021.0</td>\n",
       "      <td>3.000000</td>\n",
       "      <td>1.000000</td>\n",
       "      <td>3.091886e-05</td>\n",
       "      <td>1.793137e-05</td>\n",
       "      <td>3.992640e-05</td>\n",
       "    </tr>\n",
       "    <tr>\n",
       "      <th>50%</th>\n",
       "      <td>22.0</td>\n",
       "      <td>2.000000</td>\n",
       "      <td>2021.0</td>\n",
       "      <td>3.000000</td>\n",
       "      <td>2.000000</td>\n",
       "      <td>1.268829e-02</td>\n",
       "      <td>9.024584e-03</td>\n",
       "      <td>1.915319e-02</td>\n",
       "    </tr>\n",
       "    <tr>\n",
       "      <th>75%</th>\n",
       "      <td>22.0</td>\n",
       "      <td>3.000000</td>\n",
       "      <td>2021.0</td>\n",
       "      <td>3.000000</td>\n",
       "      <td>3.000000</td>\n",
       "      <td>4.774571e+04</td>\n",
       "      <td>2.813945e+04</td>\n",
       "      <td>5.924348e+04</td>\n",
       "    </tr>\n",
       "    <tr>\n",
       "      <th>max</th>\n",
       "      <td>22.0</td>\n",
       "      <td>3.000000</td>\n",
       "      <td>2021.0</td>\n",
       "      <td>3.000000</td>\n",
       "      <td>3.000000</td>\n",
       "      <td>5.090368e+08</td>\n",
       "      <td>4.615571e+08</td>\n",
       "      <td>5.653133e+08</td>\n",
       "    </tr>\n",
       "  </tbody>\n",
       "</table>\n",
       "</div>"
      ],
      "text/plain": [
       "       age_group_id       sex_id  year_id        level    metric_id   \n",
       "count        7272.0  7272.000000   7272.0  7272.000000  7272.000000  \\\n",
       "mean           22.0     2.000000   2021.0     2.874587     2.000000   \n",
       "std             0.0     0.816553      0.0     0.350574     1.000069   \n",
       "min            22.0     1.000000   2021.0     1.000000     1.000000   \n",
       "25%            22.0     1.000000   2021.0     3.000000     1.000000   \n",
       "50%            22.0     2.000000   2021.0     3.000000     2.000000   \n",
       "75%            22.0     3.000000   2021.0     3.000000     3.000000   \n",
       "max            22.0     3.000000   2021.0     3.000000     3.000000   \n",
       "\n",
       "               mean         lower         upper  \n",
       "count  7.272000e+03  7.272000e+03  7.272000e+03  \n",
       "mean   1.247357e+06  9.785117e+05  1.631326e+06  \n",
       "std    1.144217e+07  1.010048e+07  1.345703e+07  \n",
       "min    0.000000e+00  0.000000e+00  0.000000e+00  \n",
       "25%    3.091886e-05  1.793137e-05  3.992640e-05  \n",
       "50%    1.268829e-02  9.024584e-03  1.915319e-02  \n",
       "75%    4.774571e+04  2.813945e+04  5.924348e+04  \n",
       "max    5.090368e+08  4.615571e+08  5.653133e+08  "
      ]
     },
     "execution_count": 25,
     "metadata": {},
     "output_type": "execute_result"
    }
   ],
   "source": [
    "df_income.describe()"
   ]
  },
  {
   "cell_type": "code",
   "execution_count": 26,
   "id": "14c966d4",
   "metadata": {},
   "outputs": [
    {
     "data": {
      "text/html": [
       "<div>\n",
       "<style scoped>\n",
       "    .dataframe tbody tr th:only-of-type {\n",
       "        vertical-align: middle;\n",
       "    }\n",
       "\n",
       "    .dataframe tbody tr th {\n",
       "        vertical-align: top;\n",
       "    }\n",
       "\n",
       "    .dataframe thead th {\n",
       "        text-align: right;\n",
       "    }\n",
       "</style>\n",
       "<table border=\"1\" class=\"dataframe\">\n",
       "  <thead>\n",
       "    <tr style=\"text-align: right;\">\n",
       "      <th></th>\n",
       "      <th>location_id</th>\n",
       "      <th>age_group_id</th>\n",
       "      <th>sex_id</th>\n",
       "      <th>year_id</th>\n",
       "      <th>level</th>\n",
       "      <th>metric_id</th>\n",
       "      <th>mean</th>\n",
       "      <th>lower</th>\n",
       "      <th>upper</th>\n",
       "    </tr>\n",
       "  </thead>\n",
       "  <tbody>\n",
       "    <tr>\n",
       "      <th>count</th>\n",
       "      <td>10908.000000</td>\n",
       "      <td>10908.0</td>\n",
       "      <td>10908.000000</td>\n",
       "      <td>10908.0</td>\n",
       "      <td>10908.000000</td>\n",
       "      <td>10908.000000</td>\n",
       "      <td>1.090800e+04</td>\n",
       "      <td>1.090800e+04</td>\n",
       "      <td>1.090800e+04</td>\n",
       "    </tr>\n",
       "    <tr>\n",
       "      <th>mean</th>\n",
       "      <td>44565.500000</td>\n",
       "      <td>22.0</td>\n",
       "      <td>2.000000</td>\n",
       "      <td>2021.0</td>\n",
       "      <td>2.874587</td>\n",
       "      <td>2.000000</td>\n",
       "      <td>8.285756e+05</td>\n",
       "      <td>6.491101e+05</td>\n",
       "      <td>1.085122e+06</td>\n",
       "    </tr>\n",
       "    <tr>\n",
       "      <th>std</th>\n",
       "      <td>1.707903</td>\n",
       "      <td>0.0</td>\n",
       "      <td>0.816534</td>\n",
       "      <td>0.0</td>\n",
       "      <td>0.350566</td>\n",
       "      <td>1.000046</td>\n",
       "      <td>7.230125e+06</td>\n",
       "      <td>6.387222e+06</td>\n",
       "      <td>8.536291e+06</td>\n",
       "    </tr>\n",
       "    <tr>\n",
       "      <th>min</th>\n",
       "      <td>44563.000000</td>\n",
       "      <td>22.0</td>\n",
       "      <td>1.000000</td>\n",
       "      <td>2021.0</td>\n",
       "      <td>1.000000</td>\n",
       "      <td>1.000000</td>\n",
       "      <td>0.000000e+00</td>\n",
       "      <td>0.000000e+00</td>\n",
       "      <td>0.000000e+00</td>\n",
       "    </tr>\n",
       "    <tr>\n",
       "      <th>25%</th>\n",
       "      <td>44564.000000</td>\n",
       "      <td>22.0</td>\n",
       "      <td>1.000000</td>\n",
       "      <td>2021.0</td>\n",
       "      <td>3.000000</td>\n",
       "      <td>1.000000</td>\n",
       "      <td>2.435786e-05</td>\n",
       "      <td>1.314425e-05</td>\n",
       "      <td>3.222271e-05</td>\n",
       "    </tr>\n",
       "    <tr>\n",
       "      <th>50%</th>\n",
       "      <td>44565.500000</td>\n",
       "      <td>22.0</td>\n",
       "      <td>2.000000</td>\n",
       "      <td>2021.0</td>\n",
       "      <td>3.000000</td>\n",
       "      <td>2.000000</td>\n",
       "      <td>8.512918e-03</td>\n",
       "      <td>5.712024e-03</td>\n",
       "      <td>1.254358e-02</td>\n",
       "    </tr>\n",
       "    <tr>\n",
       "      <th>75%</th>\n",
       "      <td>44567.000000</td>\n",
       "      <td>22.0</td>\n",
       "      <td>3.000000</td>\n",
       "      <td>2021.0</td>\n",
       "      <td>3.000000</td>\n",
       "      <td>3.000000</td>\n",
       "      <td>3.337799e+04</td>\n",
       "      <td>1.835713e+04</td>\n",
       "      <td>4.223037e+04</td>\n",
       "    </tr>\n",
       "    <tr>\n",
       "      <th>max</th>\n",
       "      <td>44568.000000</td>\n",
       "      <td>22.0</td>\n",
       "      <td>3.000000</td>\n",
       "      <td>2021.0</td>\n",
       "      <td>3.000000</td>\n",
       "      <td>3.000000</td>\n",
       "      <td>3.236018e+08</td>\n",
       "      <td>2.936425e+08</td>\n",
       "      <td>3.598463e+08</td>\n",
       "    </tr>\n",
       "  </tbody>\n",
       "</table>\n",
       "</div>"
      ],
      "text/plain": [
       "        location_id  age_group_id        sex_id  year_id         level   \n",
       "count  10908.000000       10908.0  10908.000000  10908.0  10908.000000  \\\n",
       "mean   44565.500000          22.0      2.000000   2021.0      2.874587   \n",
       "std        1.707903           0.0      0.816534      0.0      0.350566   \n",
       "min    44563.000000          22.0      1.000000   2021.0      1.000000   \n",
       "25%    44564.000000          22.0      1.000000   2021.0      3.000000   \n",
       "50%    44565.500000          22.0      2.000000   2021.0      3.000000   \n",
       "75%    44567.000000          22.0      3.000000   2021.0      3.000000   \n",
       "max    44568.000000          22.0      3.000000   2021.0      3.000000   \n",
       "\n",
       "          metric_id          mean         lower         upper  \n",
       "count  10908.000000  1.090800e+04  1.090800e+04  1.090800e+04  \n",
       "mean       2.000000  8.285756e+05  6.491101e+05  1.085122e+06  \n",
       "std        1.000046  7.230125e+06  6.387222e+06  8.536291e+06  \n",
       "min        1.000000  0.000000e+00  0.000000e+00  0.000000e+00  \n",
       "25%        1.000000  2.435786e-05  1.314425e-05  3.222271e-05  \n",
       "50%        2.000000  8.512918e-03  5.712024e-03  1.254358e-02  \n",
       "75%        3.000000  3.337799e+04  1.835713e+04  4.223037e+04  \n",
       "max        3.000000  3.236018e+08  2.936425e+08  3.598463e+08  "
      ]
     },
     "execution_count": 26,
     "metadata": {},
     "output_type": "execute_result"
    }
   ],
   "source": [
    "df_regions.describe()"
   ]
  },
  {
   "cell_type": "markdown",
   "id": "63320eb2",
   "metadata": {},
   "source": [
    "## Prepare the Dataset\n",
    "### Correct Data Type"
   ]
  },
  {
   "cell_type": "code",
   "execution_count": 63,
   "id": "08385473",
   "metadata": {},
   "outputs": [],
   "source": [
    "df_age['cause_name'] = df_age['cause_name'].astype('str') \n",
    "df_income['cause_name'] = df_income['cause_name'].astype('str') \n",
    "df_regions['cause_name'] = df_regions['cause_name'].astype('str') "
   ]
  },
  {
   "cell_type": "markdown",
   "id": "5bc78fba",
   "metadata": {},
   "source": [
    "### Check and Remove Duplicates"
   ]
  },
  {
   "cell_type": "code",
   "execution_count": 30,
   "id": "9d8f21fc",
   "metadata": {},
   "outputs": [
    {
     "name": "stdout",
     "output_type": "stream",
     "text": [
      "number of duplicates in df_age:  0\n",
      "number of duplicates in df_income:  0\n",
      "number of duplicates in df_regions:  0\n"
     ]
    }
   ],
   "source": [
    "print(\"number of duplicates in df_age: \", df_age.duplicated().sum())\n",
    "print(\"number of duplicates in df_income: \", df_income.duplicated().sum())\n",
    "print(\"number of duplicates in df_regions: \", df_regions.duplicated().sum())"
   ]
  },
  {
   "cell_type": "markdown",
   "id": "1ff26a6e",
   "metadata": {},
   "source": [
    "### Handle Missing Data"
   ]
  },
  {
   "cell_type": "code",
   "execution_count": 31,
   "id": "896e9543",
   "metadata": {},
   "outputs": [
    {
     "data": {
      "text/plain": [
       "location_id        0\n",
       "age_group_id    7272\n",
       "age_group          0\n",
       "sex_id             0\n",
       "year_id            0\n",
       "severity           0\n",
       "metric_id          0\n",
       "level              0\n",
       "cause_name         0\n",
       "prev               0\n",
       "lower              0\n",
       "upper              0\n",
       "dtype: int64"
      ]
     },
     "execution_count": 31,
     "metadata": {},
     "output_type": "execute_result"
    }
   ],
   "source": [
    "df_age.isnull().sum()"
   ]
  },
  {
   "cell_type": "markdown",
   "id": "f07e142c",
   "metadata": {},
   "source": [
    "**Note**: according to ref_age sheet, `NA` in `age_group_id` represents age groups other than `all age` and `age standardized`, so we don't need to deal with the above \"missing data\"."
   ]
  },
  {
   "cell_type": "code",
   "execution_count": 32,
   "id": "d80e40d0",
   "metadata": {},
   "outputs": [
    {
     "data": {
      "text/plain": [
       "IncomeGroupCountry    0\n",
       "age_group_id          0\n",
       "sex_id                0\n",
       "year_id               0\n",
       "cause_name            0\n",
       "level                 0\n",
       "severity              0\n",
       "metric_id             0\n",
       "mean                  0\n",
       "lower                 0\n",
       "upper                 0\n",
       "dtype: int64"
      ]
     },
     "execution_count": 32,
     "metadata": {},
     "output_type": "execute_result"
    }
   ],
   "source": [
    "df_income.isnull().sum()"
   ]
  },
  {
   "cell_type": "code",
   "execution_count": 33,
   "id": "e62bfb6d",
   "metadata": {},
   "outputs": [
    {
     "data": {
      "text/plain": [
       "Region          0\n",
       "location_id     0\n",
       "age_group_id    0\n",
       "sex_id          0\n",
       "year_id         0\n",
       "cause_name      0\n",
       "level           0\n",
       "severity        0\n",
       "metric_id       0\n",
       "mean            0\n",
       "lower           0\n",
       "upper           0\n",
       "dtype: int64"
      ]
     },
     "execution_count": 33,
     "metadata": {},
     "output_type": "execute_result"
    }
   ],
   "source": [
    "df_regions.isnull().sum()"
   ]
  },
  {
   "cell_type": "markdown",
   "id": "a3dac912",
   "metadata": {},
   "source": [
    "### Filter Outliers\n",
    "In this dataset, each value represents the population of a disease, so I'll just check if any value is greater than the global population or a negative value, which means the value is incorrect."
   ]
  },
  {
   "cell_type": "code",
   "execution_count": 49,
   "id": "a9385292",
   "metadata": {},
   "outputs": [
    {
     "name": "stdout",
     "output_type": "stream",
     "text": [
      "number of prev in df_age greater than global population:  0\n",
      "number of lower in df_age greater than global population:  0\n",
      "number of upper in df_age greater than global population:  0\n",
      "number of mean in df_income greater than global population:  0\n",
      "number of lower in df_income greater than global population:  0\n",
      "number of upper in df_income greater than global population:  0\n",
      "number of mean in df_regions greater than global population:  0\n",
      "number of lower in df_regions greater than global population:  0\n",
      "number of upper in df_regions greater than global population:  0\n"
     ]
    }
   ],
   "source": [
    "global_population_2021 = 7874965825\n",
    "print(\"number of prev in df_age greater than global population: \", (df_age['prev'] > global_population_2021).sum())\n",
    "print(\"number of lower in df_age greater than global population: \", (df_age['lower'] > global_population_2021).sum())\n",
    "print(\"number of upper in df_age greater than global population: \", (df_age['upper'] > global_population_2021).sum())\n",
    "print(\"number of mean in df_income greater than global population: \", (df_income['mean'] > global_population_2021).sum())\n",
    "print(\"number of lower in df_income greater than global population: \", (df_income['lower'] > global_population_2021).sum())\n",
    "print(\"number of upper in df_income greater than global population: \", (df_income['upper'] > global_population_2021).sum())\n",
    "print(\"number of mean in df_regions greater than global population: \", (df_regions['mean'] > global_population_2021).sum())\n",
    "print(\"number of lower in df_regions greater than global population: \", (df_regions['lower'] > global_population_2021).sum())\n",
    "print(\"number of upper in df_regions greater than global population: \", (df_regions['upper'] > global_population_2021).sum())"
   ]
  },
  {
   "cell_type": "code",
   "execution_count": 54,
   "id": "f91d9552",
   "metadata": {},
   "outputs": [
    {
     "name": "stdout",
     "output_type": "stream",
     "text": [
      "any value is less than 0 in df_age:  False\n",
      "any value is less than 0 in df_income:  False\n",
      "any value is less than 0 in df_regions:  False\n"
     ]
    }
   ],
   "source": [
    "df_tmp = df_age.select_dtypes(include = np.number)\n",
    "print(\"any value is less than 0 in df_age: \", (df_tmp.values < 0).any())\n",
    "df_tmp = df_income.select_dtypes(include = np.number)\n",
    "print(\"any value is less than 0 in df_income: \", (df_tmp.values < 0).any())\n",
    "df_tmp = df_regions.select_dtypes(include = np.number)\n",
    "print(\"any value is less than 0 in df_regions: \", (df_tmp.values < 0).any())"
   ]
  },
  {
   "cell_type": "markdown",
   "id": "dbb503ff",
   "metadata": {},
   "source": [
    "### Check Equality"
   ]
  },
  {
   "cell_type": "code",
   "execution_count": 68,
   "id": "568bc305",
   "metadata": {},
   "outputs": [
    {
     "name": "stdout",
     "output_type": "stream",
     "text": [
      "total cuases:  205\n",
      "unique cause name in df_age:  205\n",
      "unique cause name in df_income:  205\n",
      "unique cause name in df_regions:  205\n"
     ]
    }
   ],
   "source": [
    "# Check if all of the causes appear in the three main sheet \n",
    "print(\"total cuases: \", ref_cause.shape[0])\n",
    "print(\"unique cause name in df_age: \", df_age['cause_name'].nunique())\n",
    "print(\"unique cause name in df_income: \", df_income['cause_name'].nunique())\n",
    "print(\"unique cause name in df_regions: \", df_regions['cause_name'].nunique())"
   ]
  },
  {
   "cell_type": "code",
   "execution_count": 72,
   "id": "bc9990b1",
   "metadata": {},
   "outputs": [
    {
     "name": "stdout",
     "output_type": "stream",
     "text": [
      "number of unique age group in df_age:  6\n",
      "number of unique age group id in df_income:  1\n",
      "number of unique age group id in df_regions:  1\n"
     ]
    }
   ],
   "source": [
    "print(\"number of unique age group in df_age: \", df_age['age_group'].nunique())\n",
    "print(\"number of unique age group id in df_income: \", df_income['age_group_id'].nunique())\n",
    "print(\"number of unique age group id in df_regions: \", df_regions['age_group_id'].nunique())"
   ]
  },
  {
   "cell_type": "code",
   "execution_count": 75,
   "id": "9dbbdd18",
   "metadata": {},
   "outputs": [
    {
     "name": "stdout",
     "output_type": "stream",
     "text": [
      "number of unique income groups in df_income:  4\n",
      "number of unique regions in df_regions:  6\n"
     ]
    }
   ],
   "source": [
    "print(\"number of unique income groups in df_income: \", df_income['IncomeGroupCountry'].nunique())\n",
    "print(\"number of unique regions in df_regions: \", df_regions['Region'].nunique())"
   ]
  },
  {
   "cell_type": "markdown",
   "id": "9d0423be",
   "metadata": {},
   "source": [
    "#### df_age"
   ]
  },
  {
   "cell_type": "code",
   "execution_count": 80,
   "id": "a296152c",
   "metadata": {},
   "outputs": [
    {
     "name": "stdout",
     "output_type": "stream",
     "text": [
      "unique cause name in df_age metric_id = 1:  205\n",
      "unique cause name in df_age metric_id = 3:  205\n",
      "shape of df_age metric_id = 1:  (4545, 12)\n",
      "shape of df_age metric_id = 3:  (5454, 12)\n"
     ]
    }
   ],
   "source": [
    "df_metric_num = df_age.loc[df_age['metric_id'] == 1]\n",
    "df_metric_per = df_age.loc[df_age['metric_id'] == 3]\n",
    "print(\"unique cause name in df_age metric_id = 1: \", df_metric_num['cause_name'].nunique())\n",
    "print(\"unique cause name in df_age metric_id = 3: \", df_metric_per['cause_name'].nunique())\n",
    "print(\"shape of df_age metric_id = 1: \", df_metric_num.shape)\n",
    "print(\"shape of df_age metric_id = 3: \", df_metric_per.shape)"
   ]
  },
  {
   "cell_type": "code",
   "execution_count": 87,
   "id": "64913ba0",
   "metadata": {},
   "outputs": [
    {
     "name": "stdout",
     "output_type": "stream",
     "text": [
      "shape of df_age All age, metric_id = 1:  (909, 12)\n",
      "shape of df_age All age, metric_id = 3:  (909, 12)\n",
      "unique cause of metric_id = 1:  205\n",
      "unique cause of metric_id = 3:  205\n",
      "shape of df_age age standardized, metric_id = 1:  (0, 12)\n",
      "shape of df_age age standardized, metric_id = 3:  (909, 12)\n",
      "unique cause of metric_id = 1:  0\n",
      "unique cause of metric_id = 3:  205\n",
      "shape of df_age 60 plus, metric_id = 1:  (909, 12)\n",
      "shape of df_age 60 plus, metric_id = 3:  (909, 12)\n",
      "unique cause of metric_id = 1:  205\n",
      "unique cause of metric_id = 3:  205\n",
      "shape of df_age 15 plus, metric_id = 1:  (909, 12)\n",
      "shape of df_age 15 plus, metric_id = 3:  (909, 12)\n",
      "unique cause of metric_id = 1:  205\n",
      "unique cause of metric_id = 3:  205\n",
      "shape of df_age 0 to 14, metric_id = 1:  (909, 12)\n",
      "shape of df_age 0 to 14, metric_id = 3:  (909, 12)\n",
      "unique cause of metric_id = 1:  205\n",
      "unique cause of metric_id = 3:  205\n",
      "shape of df_age 15 to 59, metric_id = 1:  (909, 12)\n",
      "shape of df_age 15 to 59, metric_id = 3:  (909, 12)\n",
      "unique cause of metric_id = 1:  205\n",
      "unique cause of metric_id = 3:  205\n"
     ]
    }
   ],
   "source": [
    "# Figure out why nrow of metric_id 1 and 3 is different\n",
    "df_metric_num = df_age.loc[(df_age['metric_id'] == 1) & (df_age['age_group'] == 'All age')]\n",
    "df_metric_per = df_age.loc[(df_age['metric_id'] == 3) & (df_age['age_group'] == 'All age')]\n",
    "print(\"shape of df_age All age, metric_id = 1: \", df_metric_num.shape)\n",
    "print(\"shape of df_age All age, metric_id = 3: \", df_metric_per.shape)\n",
    "print(\"unique cause of metric_id = 1: \", df_metric_num['cause_name'].nunique())\n",
    "print(\"unique cause of metric_id = 3: \", df_metric_per['cause_name'].nunique())\n",
    "df_metric_num = df_age.loc[(df_age['metric_id'] == 1) & (df_age['age_group'] == 'age standardized')]\n",
    "df_metric_per = df_age.loc[(df_age['metric_id'] == 3) & (df_age['age_group'] == 'age standardized')]\n",
    "print(\"shape of df_age age standardized, metric_id = 1: \", df_metric_num.shape)\n",
    "print(\"shape of df_age age standardized, metric_id = 3: \", df_metric_per.shape)\n",
    "print(\"unique cause of metric_id = 1: \", df_metric_num['cause_name'].nunique())\n",
    "print(\"unique cause of metric_id = 3: \", df_metric_per['cause_name'].nunique())\n",
    "df_metric_num = df_age.loc[(df_age['metric_id'] == 1) & (df_age['age_group'] == '60 plus')]\n",
    "df_metric_per = df_age.loc[(df_age['metric_id'] == 3) & (df_age['age_group'] == '60 plus')]\n",
    "print(\"shape of df_age 60 plus, metric_id = 1: \", df_metric_num.shape)\n",
    "print(\"shape of df_age 60 plus, metric_id = 3: \", df_metric_per.shape)\n",
    "print(\"unique cause of metric_id = 1: \", df_metric_num['cause_name'].nunique())\n",
    "print(\"unique cause of metric_id = 3: \", df_metric_per['cause_name'].nunique())\n",
    "df_metric_num = df_age.loc[(df_age['metric_id'] == 1) & (df_age['age_group'] == '15 plus')]\n",
    "df_metric_per = df_age.loc[(df_age['metric_id'] == 3) & (df_age['age_group'] == '15 plus')]\n",
    "print(\"shape of df_age 15 plus, metric_id = 1: \", df_metric_num.shape)\n",
    "print(\"shape of df_age 15 plus, metric_id = 3: \", df_metric_per.shape)\n",
    "print(\"unique cause of metric_id = 1: \", df_metric_num['cause_name'].nunique())\n",
    "print(\"unique cause of metric_id = 3: \", df_metric_per['cause_name'].nunique())\n",
    "df_metric_num = df_age.loc[(df_age['metric_id'] == 1) & (df_age['age_group'] == '0 to 14')]\n",
    "df_metric_per = df_age.loc[(df_age['metric_id'] == 3) & (df_age['age_group'] == '0 to 14')]\n",
    "print(\"shape of df_age 0 to 14, metric_id = 1: \", df_metric_num.shape)\n",
    "print(\"shape of df_age 0 to 14, metric_id = 3: \", df_metric_per.shape)\n",
    "print(\"unique cause of metric_id = 1: \", df_metric_num['cause_name'].nunique())\n",
    "print(\"unique cause of metric_id = 3: \", df_metric_per['cause_name'].nunique())\n",
    "df_metric_num = df_age.loc[(df_age['metric_id'] == 1) & (df_age['age_group'] == '15 to 59')]\n",
    "df_metric_per = df_age.loc[(df_age['metric_id'] == 3) & (df_age['age_group'] == '15 to 59')]\n",
    "print(\"shape of df_age 15 to 59, metric_id = 1: \", df_metric_num.shape)\n",
    "print(\"shape of df_age 15 to 59, metric_id = 3: \", df_metric_per.shape)\n",
    "print(\"unique cause of metric_id = 1: \", df_metric_num['cause_name'].nunique())\n",
    "print(\"unique cause of metric_id = 3: \", df_metric_per['cause_name'].nunique())"
   ]
  },
  {
   "cell_type": "code",
   "execution_count": 89,
   "id": "c41ef6f6",
   "metadata": {},
   "outputs": [
    {
     "name": "stdout",
     "output_type": "stream",
     "text": [
      "shape of all age, sex male:  (303, 12)\n",
      "shape of all age, sex female:  (303, 12)\n",
      "shape of all age, sex both:  (303, 12)\n",
      "shape of age standardized, sex male:  (303, 12)\n",
      "shape of age standardized, sex female:  (303, 12)\n",
      "shape of age standardized, sex both:  (303, 12)\n"
     ]
    }
   ],
   "source": [
    "# Check if sex both equals to sex male plus sex female\n",
    "df_sex_m = df_age.loc[(df_age['metric_id'] == 3) & (df_age['age_group'] == 'All age') & (df_age['sex_id'] == 1)]\n",
    "df_sex_f = df_age.loc[(df_age['metric_id'] == 3) & (df_age['age_group'] == 'All age') & (df_age['sex_id'] == 2)]\n",
    "df_sex_b = df_age.loc[(df_age['metric_id'] == 3) & (df_age['age_group'] == 'All age') & (df_age['sex_id'] == 3)]\n",
    "print(\"shape of all age, sex male: \", df_sex_m.shape)\n",
    "print(\"shape of all age, sex female: \", df_sex_f.shape)\n",
    "print(\"shape of all age, sex both: \", df_sex_b.shape)\n",
    "df_sex_m = df_age.loc[(df_age['metric_id'] == 3) & (df_age['age_group'] == 'age standardized') & (df_age['sex_id'] == 1)]\n",
    "df_sex_f = df_age.loc[(df_age['metric_id'] == 3) & (df_age['age_group'] == 'age standardized') & (df_age['sex_id'] == 2)]\n",
    "df_sex_b = df_age.loc[(df_age['metric_id'] == 3) & (df_age['age_group'] == 'age standardized') & (df_age['sex_id'] == 3)]\n",
    "print(\"shape of age standardized, sex male: \", df_sex_m.shape)\n",
    "print(\"shape of age standardized, sex female: \", df_sex_f.shape)\n",
    "print(\"shape of age standardized, sex both: \", df_sex_b.shape)"
   ]
  },
  {
   "cell_type": "markdown",
   "id": "0ab99cc3",
   "metadata": {},
   "source": [
    "#### df_income"
   ]
  },
  {
   "cell_type": "code",
   "execution_count": 92,
   "id": "3b0576e5",
   "metadata": {},
   "outputs": [
    {
     "name": "stdout",
     "output_type": "stream",
     "text": [
      "unique cause name in df_income metric_id = 1:  205\n",
      "unique cause name in df_income metric_id = 3:  205\n",
      "shape of df_income metric_id = 1:  (3636, 11)\n",
      "shape of df_income metric_id = 3:  (3636, 11)\n",
      "shape of all age, sex male:  (1212, 11)\n",
      "shape of all age, sex female:  (1212, 11)\n",
      "shape of all age, sex both:  (1212, 11)\n"
     ]
    }
   ],
   "source": [
    "df_metric_num = df_income.loc[(df_income['metric_id'] == 1)]\n",
    "df_metric_per = df_income.loc[(df_income['metric_id'] == 3)]\n",
    "print(\"unique cause name in df_income metric_id = 1: \", df_metric_num['cause_name'].nunique())\n",
    "print(\"unique cause name in df_income metric_id = 3: \", df_metric_per['cause_name'].nunique())\n",
    "print(\"shape of df_income metric_id = 1: \", df_metric_num.shape)\n",
    "print(\"shape of df_income metric_id = 3: \", df_metric_per.shape)\n",
    "df_sex_m = df_income.loc[(df_income['metric_id'] == 3) & (df_income['sex_id'] == 1)]\n",
    "df_sex_f = df_income.loc[(df_income['metric_id'] == 3) & (df_income['sex_id'] == 2)]\n",
    "df_sex_b = df_income.loc[(df_income['metric_id'] == 3) & (df_income['sex_id'] == 3)]\n",
    "print(\"shape of all age, sex male: \", df_sex_m.shape)\n",
    "print(\"shape of all age, sex female: \", df_sex_f.shape)\n",
    "print(\"shape of all age, sex both: \", df_sex_b.shape)"
   ]
  },
  {
   "cell_type": "markdown",
   "id": "14437206",
   "metadata": {},
   "source": [
    "#### df_regions"
   ]
  },
  {
   "cell_type": "code",
   "execution_count": 93,
   "id": "101fb056",
   "metadata": {},
   "outputs": [
    {
     "name": "stdout",
     "output_type": "stream",
     "text": [
      "unique cause name in df_regions metric_id = 1:  205\n",
      "unique cause name in df_regions metric_id = 3:  205\n",
      "shape of df_regions metric_id = 1:  (5454, 12)\n",
      "shape of df_regions metric_id = 3:  (5454, 12)\n",
      "shape of all age, sex male:  (1818, 12)\n",
      "shape of all age, sex female:  (1818, 12)\n",
      "shape of all age, sex both:  (1818, 12)\n"
     ]
    }
   ],
   "source": [
    "df_metric_num = df_regions.loc[(df_regions['metric_id'] == 1)]\n",
    "df_metric_per = df_regions.loc[(df_regions['metric_id'] == 3)]\n",
    "print(\"unique cause name in df_regions metric_id = 1: \", df_metric_num['cause_name'].nunique())\n",
    "print(\"unique cause name in df_regions metric_id = 3: \", df_metric_per['cause_name'].nunique())\n",
    "print(\"shape of df_regions metric_id = 1: \", df_metric_num.shape)\n",
    "print(\"shape of df_regions metric_id = 3: \", df_metric_per.shape)\n",
    "df_sex_m = df_regions.loc[(df_regions['metric_id'] == 3) & (df_regions['sex_id'] == 1)]\n",
    "df_sex_f = df_regions.loc[(df_regions['metric_id'] == 3) & (df_regions['sex_id'] == 2)]\n",
    "df_sex_b = df_regions.loc[(df_regions['metric_id'] == 3) & (df_regions['sex_id'] == 3)]\n",
    "print(\"shape of all age, sex male: \", df_sex_m.shape)\n",
    "print(\"shape of all age, sex female: \", df_sex_f.shape)\n",
    "print(\"shape of all age, sex both: \", df_sex_b.shape)"
   ]
  },
  {
   "cell_type": "markdown",
   "id": "f588a716",
   "metadata": {},
   "source": [
    "**Observations**:\n",
    "- **df_age**\n",
    "    - all causes showed in data sheet\n",
    "    - age groups `0 to 14` plus `15 plus` doesn't equal to `All age`\n",
    "    - age groups `0 to 14` plus `15 to 59` plus `60 plus` doesn't equal to `All age`\n",
    "    - age groups `age standardized` lacks metric_id = 1\n",
    "    - sex `both` doesn't equal to sex `male` plus sex `female` \n",
    "- **df_income**\n",
    "    - all causes showed in data sheet\n",
    "    - sex `both` doesn't equal to sex `male` plus sex `female` \n",
    "- **df_regions**\n",
    "    - all causes showed in data sheet\n",
    "    - sex `both` doesn't equal to sex `male` plus sex `female` \n",
    "\n",
    "> **Note**: I also want to check if the number of patients are equal when metric_id = 1 and metric_id = 3, but some critical parameters are not provided. "
   ]
  },
  {
   "cell_type": "code",
   "execution_count": null,
   "id": "0be915a6",
   "metadata": {},
   "outputs": [],
   "source": []
  }
 ],
 "metadata": {
  "kernelspec": {
   "display_name": "Python 3 (ipykernel)",
   "language": "python",
   "name": "python3"
  },
  "language_info": {
   "codemirror_mode": {
    "name": "ipython",
    "version": 3
   },
   "file_extension": ".py",
   "mimetype": "text/x-python",
   "name": "python",
   "nbconvert_exporter": "python",
   "pygments_lexer": "ipython3",
   "version": "3.11.3"
  }
 },
 "nbformat": 4,
 "nbformat_minor": 5
}
